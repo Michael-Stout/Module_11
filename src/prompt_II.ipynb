{
 "cells": [
  {
   "cell_type": "markdown",
   "metadata": {},
   "source": [
    "# What drives the price of a car?\n",
    "\n",
    "![](../images/kurt.jpeg)\n"
   ]
  },
  {
   "cell_type": "markdown",
   "metadata": {},
   "source": [
    "**OVERVIEW**\n",
    "\n",
    "In this application, you will explore a dataset from kaggle. The original dataset contained information on 3 million used cars. The provided dataset contains information on 426K cars to ensure speed of processing.  Your goal is to understand what factors make a car more or less expensive.  As a result of your analysis, you should provide clear recommendations to your client -- a used car dealership -- as to what consumers value in a used car."
   ]
  },
  {
   "cell_type": "markdown",
   "metadata": {},
   "source": [
    "### CRISP-DM Framework\n",
    "\n",
    "<center>\n",
    "    <img src = images/crisp.png width = 50%/>\n",
    "</center>\n",
    "\n",
    "\n",
    "To frame the task, throughout our practical applications we will refer back to a standard process in industry for data projects called CRISP-DM.  This process provides a framework for working through a data problem.  Your first step in this application will be to read through a brief overview of CRISP-DM [here](https://mo-pcco.s3.us-east-1.amazonaws.com/BH-PCMLAI/module_11/readings_starter.zip).  After reading the overview, answer the questions below."
   ]
  },
  {
   "cell_type": "markdown",
   "metadata": {},
   "source": [
    "### Business Understanding\n",
    "\n",
    "From a business perspective, we are tasked with identifying key drivers for used car prices.  In the CRISP-DM overview, we are asked to convert this business framing to a data problem definition.  Using a few sentences, reframe the task as a data task with the appropriate technical vocabulary. \n",
    "\n",
    "<b>Reframing the Task</b>\n",
    "\n",
    "From a business perspective, we are tasked with identifying the key drivers for used car prices. In the CRISP-DM overview, we are asked to convert this business framing into a data problem definition.\n",
    "\n",
    "<b>Data Problem Definition</b>\n",
    "\n",
    "The objective is to conduct a multivariate analysis to identify and quantify the impact of various features on used car prices. This requires collecting a comprehensive dataset containing variables such as car age, mileage, make, model, condition, and other relevant attributes. After preprocessing the data to handle missing values and outliers, feature selection techniques will be applied to isolate significant predictors. A regression model will then be developed and validated to accurately estimate used car prices based on these key features. The final model will be used to provide insights to used car dealers on the factors that drive car prices and help them make informed decisions on pricing and inventory management."
   ]
  },
  {
   "cell_type": "markdown",
   "metadata": {},
   "source": [
    "### Data Understanding\n",
    "\n",
    "After considering the business understanding, we want to get familiar with our data.  Write down some steps that you would take to get to know the dataset and identify any quality issues within.  Take time to get to know the dataset and explore what information it contains and how this could be used to inform your business understanding."
   ]
  },
  {
   "cell_type": "code",
   "metadata": {
    "ExecuteTime": {
     "end_time": "2024-07-03T20:46:51.868200Z",
     "start_time": "2024-07-03T20:46:51.866197Z"
    }
   },
   "source": [
    "import pandas as pd\n",
    "import numpy as np\n",
    "import matplotlib.pyplot as plt\n",
    "import seaborn as sns\n",
    "import statsmodels.api as sm\n",
    "from scipy import stats\n",
    "from sklearn.model_selection import train_test_split, GridSearchCV, cross_val_score\n",
    "from sklearn.preprocessing import StandardScaler\n",
    "from sklearn.linear_model import Ridge, Lasso, LinearRegression, RidgeCV\n",
    "from category_encoders.target_encoder import TargetEncoder"
   ],
   "outputs": [],
   "execution_count": 18
  },
  {
   "metadata": {
    "ExecuteTime": {
     "end_time": "2024-07-03T20:46:52.409770Z",
     "start_time": "2024-07-03T20:46:51.905952Z"
    }
   },
   "cell_type": "code",
   "source": [
    "# Load the dataset\n",
    "df = pd.read_csv('data/vehicles.csv')\n",
    "\n",
    "df.sample(10)"
   ],
   "outputs": [
    {
     "data": {
      "text/plain": [
       "                id                   region  price    year manufacturer  \\\n",
       "203014  7316341861                  holland   2800  1994.0         ford   \n",
       "275510  7316379193            new york city   1950  2000.0       toyota   \n",
       "189544  7304969782              south coast  10000  2001.0         ford   \n",
       "314543  7307969547         corvallis/albany   6950  2006.0        honda   \n",
       "306295  7310647465            oklahoma city   3999  2005.0       toyota   \n",
       "286880  7313396420           akron / canton  12572  2013.0         ford   \n",
       "233353  7311808030                charlotte   4000  1990.0       toyota   \n",
       "56560   7315127694                san diego  18999  2018.0       nissan   \n",
       "79797   7308196919  fort collins / north CO      0  2018.0       subaru   \n",
       "209058  7309351400  saginaw-midland-baycity  34590  2020.0        lexus   \n",
       "\n",
       "                          model  condition    cylinders    fuel  odometer  \\\n",
       "203014               ranger 4x4       good  6 cylinders     gas  190000.0   \n",
       "275510                    camry       good  4 cylinders     gas  180000.0   \n",
       "189544                     f650       good  6 cylinders  diesel  164000.0   \n",
       "314543                 civic lx        NaN          NaN     gas  138000.0   \n",
       "306295                    camry  excellent  4 cylinders     gas  160000.0   \n",
       "286880                     edge        NaN          NaN     gas  120552.0   \n",
       "233353                   pickup  excellent  4 cylinders     gas  146000.0   \n",
       "56560               rogue sport        NaN          NaN   other   10187.0   \n",
       "79797                  forester        NaN          NaN     gas   30377.0   \n",
       "209058  nx 300 sport utility 4d       good          NaN     gas    7678.0   \n",
       "\n",
       "       title_status transmission                VIN drive       size  \\\n",
       "203014        clean    automatic                NaN   4wd        NaN   \n",
       "275510        clean    automatic                NaN   fwd   mid-size   \n",
       "189544        clean       manual                NaN   rwd        NaN   \n",
       "314543        clean    automatic                NaN   NaN        NaN   \n",
       "306295        clean    automatic  4T1BE32K95U016770   fwd  full-size   \n",
       "286880        clean    automatic  2FMDK3JC1DBC48747   NaN        NaN   \n",
       "233353        clean       manual                NaN   rwd    compact   \n",
       "56560         clean    automatic                NaN   NaN        NaN   \n",
       "79797         clean    automatic  JF2SJAAC3JH616509   NaN        NaN   \n",
       "209058        clean        other  JTJAARBZ4L2166674   fwd        NaN   \n",
       "\n",
       "             type paint_color state  \n",
       "203014      truck       green    mi  \n",
       "275510      sedan       brown    ny  \n",
       "189544        NaN       white    ma  \n",
       "314543        NaN         NaN    or  \n",
       "306295      sedan       white    ok  \n",
       "286880      other       black    oh  \n",
       "233353      truck        grey    nc  \n",
       "56560         NaN         NaN    ca  \n",
       "79797         SUV         red    co  \n",
       "209058  hatchback       black    mi  "
      ],
      "text/html": [
       "<div>\n",
       "<style scoped>\n",
       "    .dataframe tbody tr th:only-of-type {\n",
       "        vertical-align: middle;\n",
       "    }\n",
       "\n",
       "    .dataframe tbody tr th {\n",
       "        vertical-align: top;\n",
       "    }\n",
       "\n",
       "    .dataframe thead th {\n",
       "        text-align: right;\n",
       "    }\n",
       "</style>\n",
       "<table border=\"1\" class=\"dataframe\">\n",
       "  <thead>\n",
       "    <tr style=\"text-align: right;\">\n",
       "      <th></th>\n",
       "      <th>id</th>\n",
       "      <th>region</th>\n",
       "      <th>price</th>\n",
       "      <th>year</th>\n",
       "      <th>manufacturer</th>\n",
       "      <th>model</th>\n",
       "      <th>condition</th>\n",
       "      <th>cylinders</th>\n",
       "      <th>fuel</th>\n",
       "      <th>odometer</th>\n",
       "      <th>title_status</th>\n",
       "      <th>transmission</th>\n",
       "      <th>VIN</th>\n",
       "      <th>drive</th>\n",
       "      <th>size</th>\n",
       "      <th>type</th>\n",
       "      <th>paint_color</th>\n",
       "      <th>state</th>\n",
       "    </tr>\n",
       "  </thead>\n",
       "  <tbody>\n",
       "    <tr>\n",
       "      <th>203014</th>\n",
       "      <td>7316341861</td>\n",
       "      <td>holland</td>\n",
       "      <td>2800</td>\n",
       "      <td>1994.0</td>\n",
       "      <td>ford</td>\n",
       "      <td>ranger 4x4</td>\n",
       "      <td>good</td>\n",
       "      <td>6 cylinders</td>\n",
       "      <td>gas</td>\n",
       "      <td>190000.0</td>\n",
       "      <td>clean</td>\n",
       "      <td>automatic</td>\n",
       "      <td>NaN</td>\n",
       "      <td>4wd</td>\n",
       "      <td>NaN</td>\n",
       "      <td>truck</td>\n",
       "      <td>green</td>\n",
       "      <td>mi</td>\n",
       "    </tr>\n",
       "    <tr>\n",
       "      <th>275510</th>\n",
       "      <td>7316379193</td>\n",
       "      <td>new york city</td>\n",
       "      <td>1950</td>\n",
       "      <td>2000.0</td>\n",
       "      <td>toyota</td>\n",
       "      <td>camry</td>\n",
       "      <td>good</td>\n",
       "      <td>4 cylinders</td>\n",
       "      <td>gas</td>\n",
       "      <td>180000.0</td>\n",
       "      <td>clean</td>\n",
       "      <td>automatic</td>\n",
       "      <td>NaN</td>\n",
       "      <td>fwd</td>\n",
       "      <td>mid-size</td>\n",
       "      <td>sedan</td>\n",
       "      <td>brown</td>\n",
       "      <td>ny</td>\n",
       "    </tr>\n",
       "    <tr>\n",
       "      <th>189544</th>\n",
       "      <td>7304969782</td>\n",
       "      <td>south coast</td>\n",
       "      <td>10000</td>\n",
       "      <td>2001.0</td>\n",
       "      <td>ford</td>\n",
       "      <td>f650</td>\n",
       "      <td>good</td>\n",
       "      <td>6 cylinders</td>\n",
       "      <td>diesel</td>\n",
       "      <td>164000.0</td>\n",
       "      <td>clean</td>\n",
       "      <td>manual</td>\n",
       "      <td>NaN</td>\n",
       "      <td>rwd</td>\n",
       "      <td>NaN</td>\n",
       "      <td>NaN</td>\n",
       "      <td>white</td>\n",
       "      <td>ma</td>\n",
       "    </tr>\n",
       "    <tr>\n",
       "      <th>314543</th>\n",
       "      <td>7307969547</td>\n",
       "      <td>corvallis/albany</td>\n",
       "      <td>6950</td>\n",
       "      <td>2006.0</td>\n",
       "      <td>honda</td>\n",
       "      <td>civic lx</td>\n",
       "      <td>NaN</td>\n",
       "      <td>NaN</td>\n",
       "      <td>gas</td>\n",
       "      <td>138000.0</td>\n",
       "      <td>clean</td>\n",
       "      <td>automatic</td>\n",
       "      <td>NaN</td>\n",
       "      <td>NaN</td>\n",
       "      <td>NaN</td>\n",
       "      <td>NaN</td>\n",
       "      <td>NaN</td>\n",
       "      <td>or</td>\n",
       "    </tr>\n",
       "    <tr>\n",
       "      <th>306295</th>\n",
       "      <td>7310647465</td>\n",
       "      <td>oklahoma city</td>\n",
       "      <td>3999</td>\n",
       "      <td>2005.0</td>\n",
       "      <td>toyota</td>\n",
       "      <td>camry</td>\n",
       "      <td>excellent</td>\n",
       "      <td>4 cylinders</td>\n",
       "      <td>gas</td>\n",
       "      <td>160000.0</td>\n",
       "      <td>clean</td>\n",
       "      <td>automatic</td>\n",
       "      <td>4T1BE32K95U016770</td>\n",
       "      <td>fwd</td>\n",
       "      <td>full-size</td>\n",
       "      <td>sedan</td>\n",
       "      <td>white</td>\n",
       "      <td>ok</td>\n",
       "    </tr>\n",
       "    <tr>\n",
       "      <th>286880</th>\n",
       "      <td>7313396420</td>\n",
       "      <td>akron / canton</td>\n",
       "      <td>12572</td>\n",
       "      <td>2013.0</td>\n",
       "      <td>ford</td>\n",
       "      <td>edge</td>\n",
       "      <td>NaN</td>\n",
       "      <td>NaN</td>\n",
       "      <td>gas</td>\n",
       "      <td>120552.0</td>\n",
       "      <td>clean</td>\n",
       "      <td>automatic</td>\n",
       "      <td>2FMDK3JC1DBC48747</td>\n",
       "      <td>NaN</td>\n",
       "      <td>NaN</td>\n",
       "      <td>other</td>\n",
       "      <td>black</td>\n",
       "      <td>oh</td>\n",
       "    </tr>\n",
       "    <tr>\n",
       "      <th>233353</th>\n",
       "      <td>7311808030</td>\n",
       "      <td>charlotte</td>\n",
       "      <td>4000</td>\n",
       "      <td>1990.0</td>\n",
       "      <td>toyota</td>\n",
       "      <td>pickup</td>\n",
       "      <td>excellent</td>\n",
       "      <td>4 cylinders</td>\n",
       "      <td>gas</td>\n",
       "      <td>146000.0</td>\n",
       "      <td>clean</td>\n",
       "      <td>manual</td>\n",
       "      <td>NaN</td>\n",
       "      <td>rwd</td>\n",
       "      <td>compact</td>\n",
       "      <td>truck</td>\n",
       "      <td>grey</td>\n",
       "      <td>nc</td>\n",
       "    </tr>\n",
       "    <tr>\n",
       "      <th>56560</th>\n",
       "      <td>7315127694</td>\n",
       "      <td>san diego</td>\n",
       "      <td>18999</td>\n",
       "      <td>2018.0</td>\n",
       "      <td>nissan</td>\n",
       "      <td>rogue sport</td>\n",
       "      <td>NaN</td>\n",
       "      <td>NaN</td>\n",
       "      <td>other</td>\n",
       "      <td>10187.0</td>\n",
       "      <td>clean</td>\n",
       "      <td>automatic</td>\n",
       "      <td>NaN</td>\n",
       "      <td>NaN</td>\n",
       "      <td>NaN</td>\n",
       "      <td>NaN</td>\n",
       "      <td>NaN</td>\n",
       "      <td>ca</td>\n",
       "    </tr>\n",
       "    <tr>\n",
       "      <th>79797</th>\n",
       "      <td>7308196919</td>\n",
       "      <td>fort collins / north CO</td>\n",
       "      <td>0</td>\n",
       "      <td>2018.0</td>\n",
       "      <td>subaru</td>\n",
       "      <td>forester</td>\n",
       "      <td>NaN</td>\n",
       "      <td>NaN</td>\n",
       "      <td>gas</td>\n",
       "      <td>30377.0</td>\n",
       "      <td>clean</td>\n",
       "      <td>automatic</td>\n",
       "      <td>JF2SJAAC3JH616509</td>\n",
       "      <td>NaN</td>\n",
       "      <td>NaN</td>\n",
       "      <td>SUV</td>\n",
       "      <td>red</td>\n",
       "      <td>co</td>\n",
       "    </tr>\n",
       "    <tr>\n",
       "      <th>209058</th>\n",
       "      <td>7309351400</td>\n",
       "      <td>saginaw-midland-baycity</td>\n",
       "      <td>34590</td>\n",
       "      <td>2020.0</td>\n",
       "      <td>lexus</td>\n",
       "      <td>nx 300 sport utility 4d</td>\n",
       "      <td>good</td>\n",
       "      <td>NaN</td>\n",
       "      <td>gas</td>\n",
       "      <td>7678.0</td>\n",
       "      <td>clean</td>\n",
       "      <td>other</td>\n",
       "      <td>JTJAARBZ4L2166674</td>\n",
       "      <td>fwd</td>\n",
       "      <td>NaN</td>\n",
       "      <td>hatchback</td>\n",
       "      <td>black</td>\n",
       "      <td>mi</td>\n",
       "    </tr>\n",
       "  </tbody>\n",
       "</table>\n",
       "</div>"
      ]
     },
     "execution_count": 19,
     "metadata": {},
     "output_type": "execute_result"
    }
   ],
   "execution_count": 19
  },
  {
   "metadata": {},
   "cell_type": "markdown",
   "source": [
    "**Observations**\n",
    "\n",
    "The data is not clean, there are missing and duplicate values. There are also outliers that do not make sense. For example, the minimum price of a car is 0 and the maximum price is unrealistic. The data also contains a mix of numeric and categorical features, which will require different preprocessing steps. The dataset contains a mix of features that may or may not be relevant to predicting car prices, such as VIN, drive, size, and type. The data will need to be cleaned and preprocessed before it can be used to build a regression model to predict car prices. "
   ]
  },
  {
   "metadata": {
    "ExecuteTime": {
     "end_time": "2024-07-03T20:46:52.513607Z",
     "start_time": "2024-07-03T20:46:52.410735Z"
    }
   },
   "cell_type": "code",
   "source": [
    "# Histogram of price distribution\n",
    "plt.figure(figsize=(10, 6))\n",
    "plt.hist(df['price'])\n",
    "plt.xlabel(\"Price Distribution\")"
   ],
   "outputs": [
    {
     "data": {
      "text/plain": [
       "Text(0.5, 0, 'Price Distribution')"
      ]
     },
     "execution_count": 20,
     "metadata": {},
     "output_type": "execute_result"
    },
    {
     "data": {
      "text/plain": [
       "<Figure size 1000x600 with 1 Axes>"
      ],
      "image/png": "[encoded data removed]"
     },
     "metadata": {},
     "output_type": "display_data"
    }
   ],
   "execution_count": 20
  },
  {
   "metadata": {},
   "cell_type": "markdown",
   "source": "<b>Observations:</b> The histogram of price distribution reveals a right-skewed distribution with a long tail of high-priced outliers. The majority of vehicles are priced below $50,000, with a sharp decline in frequency as prices increase. The presence of high-priced outliers suggests the presence of luxury or rare vehicles that command significantly higher prices than the average used car. The distribution indicates that the dataset contains a wide range of vehicle prices, which will need to be considered during preprocessing and modeling."
  },
  {
   "metadata": {
    "ExecuteTime": {
     "end_time": "2024-07-03T20:46:53.014265Z",
     "start_time": "2024-07-03T20:46:52.514344Z"
    }
   },
   "cell_type": "code",
   "source": [
    "# QQplot of price\n",
    "plt.figure(figsize=(10, 6))\n",
    "sm.qqplot(df['price'], line ='s')\n",
    "plt.xlabel(\"QQ Plot of Price\")"
   ],
   "outputs": [
    {
     "data": {
      "text/plain": [
       "Text(0.5, 0, 'QQ Plot of Price')"
      ]
     },
     "execution_count": 21,
     "metadata": {},
     "output_type": "execute_result"
    },
    {
     "data": {
      "text/plain": [
       "<Figure size 1000x600 with 0 Axes>"
      ]
     },
     "metadata": {},
     "output_type": "display_data"
    },
    {
     "data": {
      "text/plain": [
       "<Figure size 640x480 with 1 Axes>"
      ],
      "image/png": "[encoded data removed]"
     },
     "metadata": {},
     "output_type": "display_data"
    }
   ],
   "execution_count": 21
  },
  {
   "metadata": {},
   "cell_type": "markdown",
   "source": "<b>Observations:</b> The QQ plot of price shows a deviation from the normal distribution, particularly in the tails. The plot indicates that the price data is not normally distributed, with a heavier right tail and a higher concentration of values in the lower range. This suggests that the price data may be skewed and contain outliers, which will need to be addressed during preprocessing to ensure the data meets the assumptions of linear regression models."
  },
  {
   "metadata": {
    "ExecuteTime": {
     "end_time": "2024-07-03T20:46:53.018377Z",
     "start_time": "2024-07-03T20:46:53.015810Z"
    }
   },
   "cell_type": "code",
   "source": [
    "def plot_numeric_correlation(df):\n",
    "\n",
    "    # Select the numeric columns from the DataFrame, excluding 'id'\n",
    "    numeric_columns = df.select_dtypes(include=[np.number]).columns\n",
    "    numeric_columns = numeric_columns.drop('id') if 'id' in numeric_columns else numeric_columns\n",
    "    numeric_df = df[numeric_columns]\n",
    "    \n",
    "    # Drop rows with NaN values\n",
    "    numeric_df = numeric_df.dropna()\n",
    "    \n",
    "    # Calculate the correlation matrix\n",
    "    corr = numeric_df.corr().round(3)\n",
    "    \n",
    "    # Create a new figure with a specified size\n",
    "    plt.figure(figsize=(10, 8))\n",
    "    \n",
    "    # Create a heatmap using seaborn\n",
    "    sns.heatmap(corr, annot=True, fmt=\".3f\", cmap='coolwarm', square=True)\n",
    "    \n",
    "    # Set the title of the plot\n",
    "    plt.title('Correlation Heatmap of Numeric Variables')\n",
    "    \n",
    "    # Display the plot\n",
    "    plt.show()"
   ],
   "outputs": [],
   "execution_count": 22
  },
  {
   "metadata": {
    "ExecuteTime": {
     "end_time": "2024-07-03T20:46:53.116685Z",
     "start_time": "2024-07-03T20:46:53.019115Z"
    }
   },
   "cell_type": "code",
   "source": "plot_numeric_correlation(df)",
   "outputs": [
    {
     "data": {
      "text/plain": [
       "<Figure size 1000x800 with 2 Axes>"
      ],
      "image/png": "[encoded data removed]"
     },
     "metadata": {},
     "output_type": "display_data"
    }
   ],
   "execution_count": 23
  },
  {
   "metadata": {},
   "cell_type": "markdown",
   "source": "<b>Observations:</b> The correlation heatmap reveals very weak relationships between the variables. There is a negligible negative correlation between price and year (-0.005) and a similarly negligible positive correlation between price and odometer (0.010), indicating that neither year nor mileage has a significant linear impact on vehicle prices in this dataset. The strongest observed correlation is a weak negative one between year and odometer (-0.157), suggesting that newer vehicles tend to have lower mileage. Overall, the weak correlations suggest that other factors not analyzed here might have a more substantial influence on vehicle prices."
  },
  {
   "metadata": {
    "ExecuteTime": {
     "end_time": "2024-07-03T20:46:53.869776Z",
     "start_time": "2024-07-03T20:46:53.117292Z"
    }
   },
   "cell_type": "code",
   "source": [
    "fig, axes = plt.subplots(1, 2, figsize=(14, 6))\n",
    "\n",
    "# Scatterplot for Price vs. Odometer\n",
    "sns.scatterplot(x='odometer', y='price', data=df, ax=axes[0])\n",
    "axes[0].set_title('Price vs. Odometer')\n",
    "axes[0].set_xlabel('Odometer (miles)')\n",
    "axes[0].set_ylabel('Price ($)')\n",
    "\n",
    "# Scatterplot for Price vs. Year\n",
    "sns.scatterplot(x='year', y='price', data=df, ax=axes[1])\n",
    "axes[1].set_title('Price vs. Year')\n",
    "axes[1].set_xlabel('Year')\n",
    "axes[1].set_ylabel('Price ($)')\n",
    "\n",
    "plt.tight_layout()\n",
    "plt.show()"
   ],
   "outputs": [
    {
     "data": {
      "text/plain": [
       "<Figure size 1400x600 with 2 Axes>"
      ],
      "image/png": "[encoded data removed]"
     },
     "metadata": {},
     "output_type": "display_data"
    }
   ],
   "execution_count": 24
  },
  {
   "metadata": {},
   "cell_type": "markdown",
   "source": [
    "<b>Observations:</b>\n",
    "The scatterplots reveal a general trend where vehicle prices decrease as odometer readings increase, indicating that higher mileage typically results in lower prices. However, there are notable high-priced outliers even at higher mileage levels, suggesting that factors beyond mileage also influence price. In the scatterplot of price versus year, newer vehicles generally command higher prices, while older vehicles cluster at lower prices. Despite this, several high-priced outliers among older vehicles suggest the presence of classic or rare models that maintain high value. Overall, both plots exhibit expected trends with some variability due to additional influencing factors."
   ]
  },
  {
   "metadata": {},
   "cell_type": "markdown",
   "source": [
    "### Data Preparation\n",
    "\n",
    "After our initial exploration and fine tuning of the business understanding, it is time to construct our final dataset prior to modeling.  Here, we want to make sure to handle any integrity issues and cleaning, the engineering of new features, any transformations that we believe should happen (scaling, logarithms, normalization, etc.), and general preparation for modeling with `sklearn`. "
   ]
  },
  {
   "metadata": {
    "ExecuteTime": {
     "end_time": "2024-07-03T20:46:53.872981Z",
     "start_time": "2024-07-03T20:46:53.870475Z"
    }
   },
   "cell_type": "code",
   "source": [
    "# Calculate the percentage of missing values in each column\n",
    "def calculate_missing_data(df):\n",
    "    object_columns = df.select_dtypes(include=['int', 'float', 'object']).columns\n",
    "    total = df[object_columns].count()\n",
    "    missing_data = df[object_columns].isnull().sum()\n",
    "    missing_data_percentage = (missing_data / len(df)) * 100\n",
    "    missing_data_percentage = missing_data_percentage.round(2).astype(str) + '%'\n",
    "\n",
    "    missing_data_df = pd.DataFrame({\n",
    "        'Column': object_columns,\n",
    "        'Total': total,\n",
    "        'Missing': missing_data,\n",
    "        'Percentage': missing_data_percentage\n",
    "    })\n",
    "\n",
    "    missing_data_df = missing_data_df.sort_values(by='Missing', ascending=False)\n",
    "\n",
    "    # Add a running count column\n",
    "    missing_data_df.insert(0, 'Count', range(1, len(missing_data_df) + 1))\n",
    "\n",
    "    # Print the missing data DataFrame with the running count and column name\n",
    "    print(missing_data_df.to_string(index=False))"
   ],
   "outputs": [],
   "execution_count": 25
  },
  {
   "metadata": {
    "ExecuteTime": {
     "end_time": "2024-07-03T20:46:54.220936Z",
     "start_time": "2024-07-03T20:46:53.873880Z"
    }
   },
   "cell_type": "code",
   "source": "print(calculate_missing_data(df))",
   "outputs": [
    {
     "name": "stdout",
     "output_type": "stream",
     "text": [
      " Count       Column  Total  Missing Percentage\n",
      "     1         size 120519   306361     71.77%\n",
      "     2    cylinders 249202   177678     41.62%\n",
      "     3    condition 252776   174104     40.79%\n",
      "     4          VIN 265838   161042     37.73%\n",
      "     5        drive 296313   130567     30.59%\n",
      "     6  paint_color 296677   130203      30.5%\n",
      "     7         type 334022    92858     21.75%\n",
      "     8 manufacturer 409234    17646      4.13%\n",
      "     9 title_status 418638     8242      1.93%\n",
      "    10        model 421603     5277      1.24%\n",
      "    11     odometer 422480     4400      1.03%\n",
      "    12         fuel 423867     3013      0.71%\n",
      "    13 transmission 424324     2556       0.6%\n",
      "    14         year 425675     1205      0.28%\n",
      "    15           id 426880        0       0.0%\n",
      "    16       region 426880        0       0.0%\n",
      "    17        price 426880        0       0.0%\n",
      "    18        state 426880        0       0.0%\n",
      "None\n"
     ]
    }
   ],
   "execution_count": 26
  },
  {
   "metadata": {
    "ExecuteTime": {
     "end_time": "2024-07-03T20:46:54.384551Z",
     "start_time": "2024-07-03T20:46:54.221605Z"
    }
   },
   "cell_type": "code",
   "source": [
    "# Drop problematic columns and those that add no value to the price of a used car\n",
    "df.drop(['id', 'region', 'model', 'state', 'condition', 'size'], axis=1, inplace=True)\n",
    "\n",
    "# Drop duplicates based on 'VIN' column and then drop the 'VIN' column itself\n",
    "df.drop_duplicates(subset=['VIN'], keep='first', inplace=True)\n",
    "df.drop(columns=['VIN'], inplace=True)\n",
    "\n",
    "# Drop any remaining duplicates\n",
    "df.drop_duplicates(keep=False, inplace=True)\n",
    "\n",
    "# Assert no duplicates remain\n",
    "assert df.duplicated().sum() == 0"
   ],
   "outputs": [],
   "execution_count": 27
  },
  {
   "metadata": {
    "ExecuteTime": {
     "end_time": "2024-07-03T20:46:54.478265Z",
     "start_time": "2024-07-03T20:46:54.386665Z"
    }
   },
   "cell_type": "code",
   "source": [
    "# Impute values for all missing data using mode\n",
    "df = df.fillna(df.mode().iloc[0])"
   ],
   "outputs": [],
   "execution_count": 28
  },
  {
   "metadata": {
    "ExecuteTime": {
     "end_time": "2024-07-03T20:46:54.487576Z",
     "start_time": "2024-07-03T20:46:54.479090Z"
    }
   },
   "cell_type": "code",
   "source": [
    "# Convert float columns to integers\n",
    "df = df.astype({col: int for col in df.select_dtypes(include=['float']).columns})"
   ],
   "outputs": [],
   "execution_count": 29
  },
  {
   "metadata": {
    "ExecuteTime": {
     "end_time": "2024-07-03T20:46:54.529296Z",
     "start_time": "2024-07-03T20:46:54.488436Z"
    }
   },
   "cell_type": "code",
   "source": [
    "# Remove outliers for each numeric column using Z-score\n",
    "def remove_outliers_zscore(df, column):\n",
    "    z_scores = np.abs(stats.zscore(df[column]))\n",
    "    return df[(z_scores < 3)]\n",
    "\n",
    "df = remove_outliers_zscore(df, 'price')\n",
    "df = remove_outliers_zscore(df, 'year')\n",
    "df = remove_outliers_zscore(df, 'odometer')\n",
    "\n",
    "# Check the shape of the DataFrame after removing outliers\n",
    "\n",
    "print(df.shape)\n",
    "print(df.describe().apply(lambda col: col.map(lambda x: f\"{int(x):,}\")))"
   ],
   "outputs": [
    {
     "name": "stdout",
     "output_type": "stream",
     "text": [
      "(115921, 11)\n",
      "           price     year odometer\n",
      "count    115,921  115,921  115,921\n",
      "mean      16,750    2,013   87,483\n",
      "std       15,799        5   57,284\n",
      "min            0    1,993        0\n",
      "25%        6,250    2,010   39,000\n",
      "50%       13,495    2,014   83,530\n",
      "75%       23,990    2,017  125,853\n",
      "max    1,000,000    2,022  300,846\n"
     ]
    }
   ],
   "execution_count": 30
  },
  {
   "cell_type": "markdown",
   "metadata": {},
   "source": [
    "### Modeling\n",
    "\n",
    "With your (almost?) final dataset in hand, it is now time to build some models.  Here, you should build a number of different regression models with the price as the target.  In building your models, you should explore different parameters and be sure to cross-validate your findings."
   ]
  },
  {
   "metadata": {
    "ExecuteTime": {
     "end_time": "2024-07-03T20:46:56.618394Z",
     "start_time": "2024-07-03T20:46:54.530113Z"
    }
   },
   "cell_type": "code",
   "source": [
    "# Splitting into training and test sets\n",
    "X_train, X_test, y_train, y_test = train_test_split(\n",
    "    df.drop(columns=[\"price\"]), df[\"price\"], test_size=0.2, random_state=42)\n",
    "\n",
    "# Mean encoding\n",
    "mean_enc = TargetEncoder(cols=None, min_samples_leaf=25, smoothing=1.0)\n",
    "X_train_enc = mean_enc.fit_transform(X_train, y_train)\n",
    "X_test_enc = mean_enc.transform(X_test)\n",
    "\n",
    "# Standardization\n",
    "scaler = StandardScaler()\n",
    "X_train_scaled = scaler.fit_transform(X_train_enc)\n",
    "X_test_scaled = scaler.transform(X_test_enc)\n",
    "\n",
    "def print_scores(model, X_train, y_train, X_test, y_test, name):\n",
    "    print(f\"{name}\")\n",
    "    print(f\"Training set score: {model.score(X_train, y_train):.2f}\")\n",
    "    print(f\"Test set score: {model.score(X_test, y_test):.2f}\")\n",
    "    scores = cross_val_score(model, X_test, y_test, cv=5)\n",
    "    print(f\"Cross-validation scores: {scores}\")\n",
    "    print(f\"Mean cross-validation score: {scores.mean():.2f}\\n\")\n",
    "\n",
    "# Linear Regression\n",
    "lr = LinearRegression().fit(X_train_scaled, y_train)\n",
    "print_scores(lr, X_train_scaled, y_train, X_test_scaled, y_test, \"Linear Regression\")\n",
    "\n",
    "# Ridge Regression\n",
    "ridge = Ridge().fit(X_train_scaled, y_train)\n",
    "print_scores(ridge, X_train_scaled, y_train, X_test_scaled, y_test, \"Ridge Regression\")\n",
    "\n",
    "# Ridge Regression with Grid Search\n",
    "ridge_grid = GridSearchCV(Ridge(), {'alpha': np.logspace(-6, 6, 13)}, cv=5).fit(X_train_scaled, y_train)\n",
    "print_scores(ridge_grid.best_estimator_, X_train_scaled, y_train, X_test_scaled, y_test, \"Ridge Regression with Grid Search\")\n",
    "\n",
    "# Lasso Regression\n",
    "lasso = Lasso().fit(X_train_scaled, y_train)\n",
    "print_scores(lasso, X_train_scaled, y_train, X_test_scaled, y_test, \"Lasso Regression\")\n",
    "\n",
    "# Lasso Regression with Grid Search\n",
    "lasso_grid = GridSearchCV(Lasso(), {'alpha': [0.1, 0.01, 0.001, 0.0001]}, cv=5).fit(X_train_scaled, y_train)\n",
    "print_scores(lasso_grid.best_estimator_, X_train_scaled, y_train, X_test_scaled, y_test, \"Lasso Regression with Grid Search\")\n",
    "\n",
    "# Ridge Regression with built-in cross-validation\n",
    "ridge_cv = RidgeCV(alphas=np.logspace(-6, 6, 13), cv=5).fit(X_train_scaled, y_train)\n",
    "print_scores(ridge_cv, X_train_scaled, y_train, X_test_scaled, y_test, \"Ridge Regression with built-in cross-validation\")"
   ],
   "outputs": [
    {
     "name": "stdout",
     "output_type": "stream",
     "text": [
      "Linear Regression\n",
      "Training set score: 0.33\n",
      "Test set score: 0.35\n",
      "Cross-validation scores: [0.35075211 0.32469421 0.34682422 0.37772952 0.37498024]\n",
      "Mean cross-validation score: 0.35\n",
      "\n",
      "Ridge Regression\n",
      "Training set score: 0.33\n",
      "Test set score: 0.35\n",
      "Cross-validation scores: [0.35075166 0.32469419 0.34682474 0.37773008 0.37498032]\n",
      "Mean cross-validation score: 0.35\n",
      "\n",
      "Ridge Regression with Grid Search\n",
      "Training set score: 0.33\n",
      "Test set score: 0.35\n",
      "Cross-validation scores: [0.35070464 0.32468857 0.34687286 0.3777818  0.37498431]\n",
      "Mean cross-validation score: 0.36\n",
      "\n",
      "Lasso Regression\n",
      "Training set score: 0.33\n",
      "Test set score: 0.35\n",
      "Cross-validation scores: [0.35074517 0.3246913  0.34682809 0.37773675 0.37498238]\n",
      "Mean cross-validation score: 0.35\n",
      "\n",
      "Lasso Regression with Grid Search\n",
      "Training set score: 0.33\n",
      "Test set score: 0.35\n",
      "Cross-validation scores: [0.35075143 0.32469392 0.34682461 0.37773024 0.37498046]\n",
      "Mean cross-validation score: 0.35\n",
      "\n",
      "Ridge Regression with built-in cross-validation\n",
      "Training set score: 0.33\n",
      "Test set score: 0.35\n",
      "Cross-validation scores: [0.35070464 0.32468857 0.34687286 0.3777818  0.37498431]\n",
      "Mean cross-validation score: 0.36\n",
      "\n"
     ]
    }
   ],
   "execution_count": 31
  },
  {
   "cell_type": "markdown",
   "metadata": {},
   "source": [
    "### Evaluation\n",
    "\n",
    "With some modeling accomplished, we aim to reflect on what we identify as a high quality model and what we are able to learn from this.  We should review our business objective and explore how well we can provide meaningful insight on drivers of used car prices.  Your goal now is to distill your findings and determine whether the earlier phases need revisitation and adjustment or if you have information of value to bring back to your client."
   ]
  },
  {
   "metadata": {},
   "cell_type": "markdown",
   "source": [
    "<b>Observations</b><br />\n",
    "\n",
    "<b>Consistency Across the Models:</b>\n",
    "All models (Linear Regression, Ridge, Lasso) have very similar performance metrics.\n",
    "The training and test set scores are consistently 0.33 and 0.35 respectively, indicating that all models are performing similarly on the data.\n",
    "\n",
    "<b>Cross-Validation Scores:</b>\n",
    "The cross-validation scores are also very consistent across all models, with mean scores around 0.35-0.36.\n",
    "This suggests that the models have similar generalization capabilities and none of them have a significant advantage over the others in terms of predictive performance.\n",
    "\n",
    "<b>Impact of Regularization:</b>\n",
    "Adding regularization (Ridge and Lasso) does not significantly change the performance metrics compared to the basic Linear Regression.\n",
    "This could indicate that the data might not be suffering much from overfitting, or the regularization parameters used are not making a large impact.\n",
    "\n",
    "<b>Grid Search and Cross-Validation:</b>The Ridge Regression with Grid Search and the Ridge Regression with built-in cross-validation have a slightly higher mean cross-validation score (0.36) compared to other models (0.35). This suggests that tuning the hyperparameters might provide a marginal improvement in model performance.\n",
    "\n",
    "<b>Model Choice:</b>\n",
    "Since the performance of all models is very similar, the choice between them might come down to other factors such as interpretability, computational efficiency, or specific requirements of the application.\n",
    "Ridge and Lasso provide the added benefit of regularization, which can be helpful in preventing overfitting in other scenarios or datasets.\n",
    "\n",
    "<b>Conclusion</b><br />\n",
    "\n",
    "The overall performance of Linear Regression, Ridge Regression, and Lasso Regression is very similar on this dataset. Regularization does not significantly improve performance, but slight improvements are seen with hyperparameter tuning in Ridge Regression with Grid Search and built-in cross-validation."
   ]
  },
  {
   "cell_type": "code",
   "metadata": {
    "ExecuteTime": {
     "end_time": "2024-07-03T20:46:56.707898Z",
     "start_time": "2024-07-03T20:46:56.619073Z"
    }
   },
   "source": [
    "feature_names = X_train_enc.columns\n",
    "\n",
    "# Feature importances via coefficients for the linear model\n",
    "plt.figure(figsize=(10, 6))\n",
    "plt.barh(feature_names, lr.coef_)\n",
    "plt.xlabel(\"Coefficient\")\n",
    "plt.ylabel(\"Feature\")\n",
    "plt.title(\"Feature Importances via Coefficients for Linear Regression\")\n",
    "plt.show()"
   ],
   "outputs": [
    {
     "data": {
      "text/plain": [
       "<Figure size 1000x600 with 1 Axes>"
      ],
      "image/png": "[encoded data removed]"
     },
     "metadata": {},
     "output_type": "display_data"
    }
   ],
   "execution_count": 32
  },
  {
   "metadata": {},
   "cell_type": "markdown",
   "source": [
    "### Interpretation of the Feature Importances via Coefficients for Linear Regression ###\n",
    "\n",
    "The bar chart illustrates the feature importances in a Linear Regression model by displaying the coefficients assigned to each feature. \n",
    "\n",
    "Here are the key observations and interpretations:\n",
    "\n",
    "1. **Year**:\n",
    "   - **Coefficient**: ~4000\n",
    "   - **Interpretation**: The year of the car is the most significant positive feature, indicating that newer cars (higher year values) increase the predicted price significantly.\n",
    "\n",
    "2. **Manufacturer**:\n",
    "   - **Coefficient**: ~2500\n",
    "   - **Interpretation**: The manufacturer has a substantial positive impact on the price, suggesting that certain brands command higher prices.\n",
    "\n",
    "3. **Cylinders**:\n",
    "   - **Coefficient**: ~1500\n",
    "   - **Interpretation**: The number of cylinders positively affects the price, with more cylinders generally indicating more powerful and expensive vehicles.\n",
    "\n",
    "4. **Fuel**:\n",
    "   - **Coefficient**: ~1000\n",
    "   - **Interpretation**: The type of fuel used by the car has a positive influence on the price, with some fuel types likely being more desirable or associated with more expensive cars.\n",
    "\n",
    "5. **Type**:\n",
    "   - **Coefficient**: ~3000\n",
    "   - **Interpretation**: The car type (e.g., sedan, SUV, truck) has a significant positive impact on the price, indicating that certain types of vehicles are valued more highly.\n",
    "\n",
    "6. **Drive**:\n",
    "   - **Coefficient**: ~1500\n",
    "   - **Interpretation**: The drive type (e.g., FWD, RWD, AWD) also positively impacts the price, reflecting that certain drive configurations are more desirable or associated with higher-priced vehicles.\n",
    "\n",
    "7. **Odometer**:\n",
    "   - **Coefficient**: ~-3000\n",
    "   - **Interpretation**: This feature has a significant negative impact on the price. Higher odometer readings (indicating higher mileage) substantially decrease the predicted price, as expected for used cars.\n",
    "\n",
    "8. **Title Status**:\n",
    "   - **Coefficient**: Slightly negative\n",
    "   - **Interpretation**: The status of the car's title (e.g., clean, salvage) has a small negative impact on the price, suggesting that less favorable title statuses decrease the vehicle's value slightly.\n",
    "\n",
    "9. **Transmission**:\n",
    "   - **Coefficient**: Slightly negative\n",
    "   - **Interpretation**: The type of transmission has a small negative impact on the price, indicating that certain transmission types might be less desirable.\n",
    "\n",
    "10. **Paint Color**:\n",
    "    - **Coefficient**: Negligible\n",
    "    - **Interpretation**: Paint color has a very minimal impact on the price, suggesting that it is not a significant factor in determining vehicle value.\n",
    "\n",
    "### Summary\n",
    "\n",
    "**Most Influential Positive Features**: Year, Manufacturer, Type, and Cylinders are the most influential features positively affecting the car price.\n",
    "\n",
    "**Most Influential Negative Feature**: Odometer reading is the most influential negative feature, significantly reducing the car price with higher mileage.\n",
    "\n",
    "**Least Influential Features**: Paint Color and Title Status have minimal impact on the price.\n",
    "\n",
    "These insights indicate that the age, brand, type, and engine specifications of the car are crucial factors driving the price up, while higher mileage drastically reduces the price. Transmission type and drive configuration also play significant roles, but to a lesser extent. Paint color has a negligible effect on the car's value."
   ]
  },
  {
   "cell_type": "markdown",
   "metadata": {},
   "source": [
    "### Deployment\n",
    "\n",
    "Now that we've settled on our models and findings, it is time to deliver the information to the client.  You should organize your work as a basic report that details your primary findings.  Keep in mind that your audience is a group of used car dealers interested in fine tuning their inventory."
   ]
  },
  {
   "metadata": {},
   "cell_type": "markdown",
   "source": [
    "### Recommendations for a Used Car Dealership Based on Consumer Valuation\n",
    "\n",
    "Based on the analysis of feature importances via coefficients from a Linear Regression model, here are clear recommendations on what consumers value in a used car:\n",
    "\n",
    "1. **Focus on Newer Models**:\n",
    "   - **Observation**: The year of the car is the most significant positive feature.\n",
    "   - **Recommendation**: Prioritize acquiring and selling newer car models. Promote the newer models as they significantly increase consumer willingness to pay a higher price.\n",
    "\n",
    "2. **Highlight Popular Brands**:\n",
    "   - **Observation**: Manufacturer is a substantial positive factor.\n",
    "   - **Recommendation**: Stock and emphasize vehicles from well-known and reputable manufacturers. Market the brand prominently as consumers are willing to pay more for cars from desirable brands.\n",
    "\n",
    "3. **Promote High-Performance Vehicles**:\n",
    "   - **Observation**: Number of cylinders positively affects price.\n",
    "   - **Recommendation**: Highlight cars with more cylinders and market them as high-performance or luxury vehicles. Educate consumers on the benefits of having a more powerful engine to justify higher prices.\n",
    "\n",
    "4. **Fuel Type as a Selling Point**:\n",
    "   - **Observation**: Fuel type has a positive impact on price.\n",
    "   - **Recommendation**: Emphasize vehicles with more desirable fuel types, such as hybrids or electric cars, which are becoming increasingly popular. Promote the benefits of these fuel types in terms of efficiency and environmental impact.\n",
    "\n",
    "5. **Diverse Vehicle Types**:\n",
    "   - **Observation**: Vehicle type (e.g., SUV, truck) significantly impacts price.\n",
    "   - **Recommendation**: Maintain a diverse inventory that includes various vehicle types. Highlight the specific benefits and uses of different types, such as the versatility of SUVs or the utility of trucks.\n",
    "\n",
    "6. **Drive Type Matters**:\n",
    "   - **Observation**: Drive type (e.g., AWD, FWD) positively impacts price.\n",
    "   - **Recommendation**: Stock vehicles with popular drive types like All-Wheel Drive (AWD) and promote their advantages, such as better handling and performance in various driving conditions.\n",
    "\n",
    "7. **Minimize High Mileage Vehicles**:\n",
    "   - **Observation**: Higher odometer readings (mileage) drastically reduce the car price.\n",
    "   - **Recommendation**: Avoid acquiring high-mileage vehicles. If you must stock them, ensure they are priced competitively. Emphasize maintenance records and any recent overhauls or repairs to mitigate consumer concerns about high mileage.\n",
    "\n",
    "8. **Transmission Preferences**:\n",
    "   - **Observation**: Transmission type has a small negative impact on price.\n",
    "   - **Recommendation**: Be aware of consumer preferences for transmission types in your market. While the impact is small, promoting the advantages of automatic transmissions, if preferred, could help in quicker sales.\n",
    "\n",
    "9. **Title Status and Transparency**:\n",
    "   - **Observation**: Title status has a small negative impact.\n",
    "   - **Recommendation**: Ensure transparency about the vehicle’s title status. If the title status is less favorable, provide detailed history and reasons to build consumer trust and potentially justify the pricing.\n",
    "\n",
    "10. **Deemphasize Paint Color**:\n",
    "    - **Observation**: Paint color has a negligible impact on price.\n",
    "    - **Recommendation**: While maintaining a variety of colors is good, don't overly focus on paint color as a selling point. Instead, ensure the quality and condition of the paint job, as well-maintained exteriors are generally expected.\n",
    "\n",
    "### Summary\n",
    "\n",
    "Consumers value newer models, reputable brands, high-performance engines, desirable fuel types, and certain vehicle types and drive configurations. High mileage and less favorable title statuses negatively impact price perceptions. Use these insights to strategically acquire inventory, highlight key features in marketing, and set pricing to align with consumer preferences."
   ]
  }
 ],
 "metadata": {
  "kernelspec": {
   "display_name": "Python 3",
   "language": "python",
   "name": "python3"
  },
  "language_info": {
   "codemirror_mode": {
    "name": "ipython",
    "version": 3
   },
   "file_extension": ".py",
   "mimetype": "text/x-python",
   "name": "python",
   "nbconvert_exporter": "python",
   "pygments_lexer": "ipython3",
   "version": "3.8.8"
  },
  "widgets": {
   "application/vnd.jupyter.widget-state+json": {
    "state": {},
    "version_major": 2,
    "version_minor": 0
   }
  }
 },
 "nbformat": 4,
 "nbformat_minor": 4
}
